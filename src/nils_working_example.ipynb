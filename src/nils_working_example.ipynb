{
 "cells": [
  {
   "cell_type": "markdown",
   "metadata": {},
   "source": [
    "# InceptionTimeClassifier\n",
    "This is a basic example of working with the sklearn library. \\\n",
    "A UCR dataset is loaded and used to train an InceptionTimeClassifier model. \\\n",
    "The model performance is then checked on testing data, and achieves ~96.5% accuracy. \n",
    "\n",
    "Written by Nils Odin 2023-09-23\n",
    "\n",
    "**Good to know:**\n",
    "- *Some UCR/UEA archive datasets are available through the sktime library but more can be added manually*\n",
    "- *Transformations are available and can be applied during training (check sktime docs)*\n",
    "- *sktime should be pretty much fully compatible with the sklearn library*\n",
    "\n",
    "\n",
    "**Development:**\n",
    "- *2023-09-23: Proof of concept, working example*\n",
    "- *TODO: Add some basic data augmentation och check their performance on smaller datasets* \n",
    "\n",
    "\n",
    "**Resources:**\n",
    "- *Tutorial that this file is based on: https://www.sktime.net/en/stable/examples/02_classification.html*\n",
    "- *Install instructions for sktime: https://www.sktime.net/en/stable/installation.html#development-versions*\n",
    "- *InceptionTimeClassifier documentation: https://www.sktime.net/en/stable/api_reference/auto_generated/sktime.classification.deep_learning.InceptionTimeClassifier.html*"
   ]
  },
  {
   "cell_type": "code",
   "execution_count": 10,
   "metadata": {},
   "outputs": [],
   "source": [
    "# make some imports \n",
    "import warnings\n",
    "warnings.filterwarnings(\"ignore\")  # hide some annoying deprication warnings\n",
    "\n",
    "import numpy as np\n",
    "import pandas as pd"
   ]
  },
  {
   "cell_type": "code",
   "execution_count": 11,
   "metadata": {},
   "outputs": [
    {
     "name": "stdout",
     "output_type": "stream",
     "text": [
      "Training data shape is (1608, 1)\n"
     ]
    },
    {
     "data": {
      "text/html": [
       "<div>\n",
       "<style scoped>\n",
       "    .dataframe tbody tr th:only-of-type {\n",
       "        vertical-align: middle;\n",
       "    }\n",
       "\n",
       "    .dataframe tbody tr th {\n",
       "        vertical-align: top;\n",
       "    }\n",
       "\n",
       "    .dataframe thead th {\n",
       "        text-align: right;\n",
       "    }\n",
       "</style>\n",
       "<table border=\"1\" class=\"dataframe\">\n",
       "  <thead>\n",
       "    <tr style=\"text-align: right;\">\n",
       "      <th></th>\n",
       "      <th></th>\n",
       "      <th>total_power_demand</th>\n",
       "    </tr>\n",
       "    <tr>\n",
       "      <th></th>\n",
       "      <th>timepoints</th>\n",
       "      <th></th>\n",
       "    </tr>\n",
       "  </thead>\n",
       "  <tbody>\n",
       "    <tr>\n",
       "      <th rowspan=\"5\" valign=\"top\">0</th>\n",
       "      <th>0</th>\n",
       "      <td>-0.710518</td>\n",
       "    </tr>\n",
       "    <tr>\n",
       "      <th>1</th>\n",
       "      <td>-1.183320</td>\n",
       "    </tr>\n",
       "    <tr>\n",
       "      <th>2</th>\n",
       "      <td>-1.372442</td>\n",
       "    </tr>\n",
       "    <tr>\n",
       "      <th>3</th>\n",
       "      <td>-1.593083</td>\n",
       "    </tr>\n",
       "    <tr>\n",
       "      <th>4</th>\n",
       "      <td>-1.467002</td>\n",
       "    </tr>\n",
       "  </tbody>\n",
       "</table>\n",
       "</div>"
      ],
      "text/plain": [
       "              total_power_demand\n",
       "  timepoints                    \n",
       "0 0                    -0.710518\n",
       "  1                    -1.183320\n",
       "  2                    -1.372442\n",
       "  3                    -1.593083\n",
       "  4                    -1.467002"
      ]
     },
     "execution_count": 11,
     "metadata": {},
     "output_type": "execute_result"
    }
   ],
   "source": [
    "# select the italian power demand dataset (ID 38 in the UCR/UEA archive)\n",
    "from sktime.datasets import load_italy_power_demand\n",
    "\n",
    "# get dataset in pandas multiindex mtype\n",
    "X_train, y_train = load_italy_power_demand(split=\"train\", return_type=\"pd-multiindex\")\n",
    "X_test, y_test = load_italy_power_demand(split=\"test\", return_type=\"pd-multiindex\")\n",
    "\n",
    "# rename columns for some more clarity\n",
    "X_train.columns = [\"total_power_demand\"]\n",
    "X_train.names = [\"day_ID\", \"hour_of_day\"]\n",
    "print(\"Training data shape is\", X_train.shape)\n",
    "X_train.head()"
   ]
  },
  {
   "cell_type": "code",
   "execution_count": 12,
   "metadata": {},
   "outputs": [
    {
     "data": {
      "text/plain": [
       "{'batch_size': 64,\n",
       " 'bottleneck_size': 32,\n",
       " 'callbacks': None,\n",
       " 'depth': 6,\n",
       " 'kernel_size': 40,\n",
       " 'loss': 'categorical_crossentropy',\n",
       " 'metrics': None,\n",
       " 'n_epochs': 1500,\n",
       " 'n_filters': 32,\n",
       " 'random_state': None,\n",
       " 'use_bottleneck': True,\n",
       " 'use_residual': True,\n",
       " 'verbose': False}"
      ]
     },
     "execution_count": 12,
     "metadata": {},
     "output_type": "execute_result"
    }
   ],
   "source": [
    "# Import the Inception time classifier from sktime and check its default parameters\n",
    "from sktime.classification.deep_learning import InceptionTimeClassifier\n",
    "ITC = InceptionTimeClassifier()\n",
    "ITC.get_params()    # Check default parameters"
   ]
  },
  {
   "cell_type": "code",
   "execution_count": 13,
   "metadata": {},
   "outputs": [
    {
     "data": {
      "text/html": [
       "<style>#sk-a1394de2-9e91-4a5d-947f-f929d1d20435 {color: black;background-color: white;}#sk-a1394de2-9e91-4a5d-947f-f929d1d20435 pre{padding: 0;}#sk-a1394de2-9e91-4a5d-947f-f929d1d20435 div.sk-toggleable {background-color: white;}#sk-a1394de2-9e91-4a5d-947f-f929d1d20435 label.sk-toggleable__label {cursor: pointer;display: block;width: 100%;margin-bottom: 0;padding: 0.3em;box-sizing: border-box;text-align: center;}#sk-a1394de2-9e91-4a5d-947f-f929d1d20435 label.sk-toggleable__label-arrow:before {content: \"▸\";float: left;margin-right: 0.25em;color: #696969;}#sk-a1394de2-9e91-4a5d-947f-f929d1d20435 label.sk-toggleable__label-arrow:hover:before {color: black;}#sk-a1394de2-9e91-4a5d-947f-f929d1d20435 div.sk-estimator:hover label.sk-toggleable__label-arrow:before {color: black;}#sk-a1394de2-9e91-4a5d-947f-f929d1d20435 div.sk-toggleable__content {max-height: 0;max-width: 0;overflow: hidden;text-align: left;background-color: #f0f8ff;}#sk-a1394de2-9e91-4a5d-947f-f929d1d20435 div.sk-toggleable__content pre {margin: 0.2em;color: black;border-radius: 0.25em;background-color: #f0f8ff;}#sk-a1394de2-9e91-4a5d-947f-f929d1d20435 input.sk-toggleable__control:checked~div.sk-toggleable__content {max-height: 200px;max-width: 100%;overflow: auto;}#sk-a1394de2-9e91-4a5d-947f-f929d1d20435 input.sk-toggleable__control:checked~label.sk-toggleable__label-arrow:before {content: \"▾\";}#sk-a1394de2-9e91-4a5d-947f-f929d1d20435 div.sk-estimator input.sk-toggleable__control:checked~label.sk-toggleable__label {background-color: #d4ebff;}#sk-a1394de2-9e91-4a5d-947f-f929d1d20435 div.sk-label input.sk-toggleable__control:checked~label.sk-toggleable__label {background-color: #d4ebff;}#sk-a1394de2-9e91-4a5d-947f-f929d1d20435 input.sk-hidden--visually {border: 0;clip: rect(1px 1px 1px 1px);clip: rect(1px, 1px, 1px, 1px);height: 1px;margin: -1px;overflow: hidden;padding: 0;position: absolute;width: 1px;}#sk-a1394de2-9e91-4a5d-947f-f929d1d20435 div.sk-estimator {font-family: monospace;background-color: #f0f8ff;border: 1px dotted black;border-radius: 0.25em;box-sizing: border-box;margin-bottom: 0.5em;}#sk-a1394de2-9e91-4a5d-947f-f929d1d20435 div.sk-estimator:hover {background-color: #d4ebff;}#sk-a1394de2-9e91-4a5d-947f-f929d1d20435 div.sk-parallel-item::after {content: \"\";width: 100%;border-bottom: 1px solid gray;flex-grow: 1;}#sk-a1394de2-9e91-4a5d-947f-f929d1d20435 div.sk-label:hover label.sk-toggleable__label {background-color: #d4ebff;}#sk-a1394de2-9e91-4a5d-947f-f929d1d20435 div.sk-serial::before {content: \"\";position: absolute;border-left: 1px solid gray;box-sizing: border-box;top: 2em;bottom: 0;left: 50%;}#sk-a1394de2-9e91-4a5d-947f-f929d1d20435 div.sk-serial {display: flex;flex-direction: column;align-items: center;background-color: white;padding-right: 0.2em;padding-left: 0.2em;}#sk-a1394de2-9e91-4a5d-947f-f929d1d20435 div.sk-item {z-index: 1;}#sk-a1394de2-9e91-4a5d-947f-f929d1d20435 div.sk-parallel {display: flex;align-items: stretch;justify-content: center;background-color: white;}#sk-a1394de2-9e91-4a5d-947f-f929d1d20435 div.sk-parallel::before {content: \"\";position: absolute;border-left: 1px solid gray;box-sizing: border-box;top: 2em;bottom: 0;left: 50%;}#sk-a1394de2-9e91-4a5d-947f-f929d1d20435 div.sk-parallel-item {display: flex;flex-direction: column;position: relative;background-color: white;}#sk-a1394de2-9e91-4a5d-947f-f929d1d20435 div.sk-parallel-item:first-child::after {align-self: flex-end;width: 50%;}#sk-a1394de2-9e91-4a5d-947f-f929d1d20435 div.sk-parallel-item:last-child::after {align-self: flex-start;width: 50%;}#sk-a1394de2-9e91-4a5d-947f-f929d1d20435 div.sk-parallel-item:only-child::after {width: 0;}#sk-a1394de2-9e91-4a5d-947f-f929d1d20435 div.sk-dashed-wrapped {border: 1px dashed gray;margin: 0 0.4em 0.5em 0.4em;box-sizing: border-box;padding-bottom: 0.4em;background-color: white;position: relative;}#sk-a1394de2-9e91-4a5d-947f-f929d1d20435 div.sk-label label {font-family: monospace;font-weight: bold;background-color: white;display: inline-block;line-height: 1.2em;}#sk-a1394de2-9e91-4a5d-947f-f929d1d20435 div.sk-label-container {position: relative;z-index: 2;text-align: center;}#sk-a1394de2-9e91-4a5d-947f-f929d1d20435 div.sk-container {/* jupyter's `normalize.less` sets `[hidden] { display: none; }` but bootstrap.min.css set `[hidden] { display: none !important; }` so we also need the `!important` here to be able to override the default hidden behavior on the sphinx rendered scikit-learn.org. See: https://github.com/scikit-learn/scikit-learn/issues/21755 */display: inline-block !important;position: relative;}#sk-a1394de2-9e91-4a5d-947f-f929d1d20435 div.sk-text-repr-fallback {display: none;}</style><div id='sk-a1394de2-9e91-4a5d-947f-f929d1d20435' class=\"sk-top-container\"><div class=\"sk-text-repr-fallback\"><pre>InceptionTimeClassifier()</pre><b>Please rerun this cell to show the HTML repr or trust the notebook.</b></div><div class=\"sk-container\" hidden><div class='sk-item'><div class=\"sk-estimator sk-toggleable\"><input class=\"sk-toggleable__control sk-hidden--visually\" id=UUID('4cd7dcf5-53df-47f2-98bb-881e699aaf01') type=\"checkbox\" checked><label for=UUID('4cd7dcf5-53df-47f2-98bb-881e699aaf01') class='sk-toggleable__label sk-toggleable__label-arrow'>InceptionTimeClassifier</label><div class=\"sk-toggleable__content\"><pre>InceptionTimeClassifier()</pre></div></div></div></div></div>"
      ],
      "text/plain": [
       "InceptionTimeClassifier()"
      ]
     },
     "execution_count": 13,
     "metadata": {},
     "output_type": "execute_result"
    }
   ],
   "source": [
    "# Train the Inception Time classifier on the training data\n",
    "ITC.fit(X_train, y_train)"
   ]
  },
  {
   "cell_type": "code",
   "execution_count": 14,
   "metadata": {},
   "outputs": [
    {
     "name": "stdout",
     "output_type": "stream",
     "text": [
      "17/17 [==============================] - 0s 7ms/step\n"
     ]
    }
   ],
   "source": [
    "# We now have a trained model, which we can use to make predictions on new data.\n",
    "# For this, we use the testing data, which we have not used for training the model.\n",
    "y_preditions = ITC.predict(X_test)"
   ]
  },
  {
   "cell_type": "code",
   "execution_count": 15,
   "metadata": {},
   "outputs": [
    {
     "data": {
      "text/plain": [
       "0.9650145772594753"
      ]
     },
     "execution_count": 15,
     "metadata": {},
     "output_type": "execute_result"
    }
   ],
   "source": [
    "# We can now evaluate the performance of our model by comparing the predicted values with the true values.\n",
    "# For this, we use the sklearn library since sklearn and sktime are compatible\n",
    "from sklearn.metrics import accuracy_score\n",
    "accuracy_score(y_test, y_preditions)"
   ]
  },
  {
   "cell_type": "markdown",
   "metadata": {},
   "source": [
    "### Basic training completed!\n",
    "This dataset is quite large with over 1000 datapoints, but an accuracy of 96.5% is still pretty solid. \\\n",
    "Next, I want to perform some basic data augmentations such as adding noise to the dataset, simulating errors in data collection.\n",
    "\n",
    "**Everything below this point is a work in progress!**"
   ]
  },
  {
   "cell_type": "code",
   "execution_count": 17,
   "metadata": {},
   "outputs": [
    {
     "ename": "TypeError",
     "evalue": "Only valid with DatetimeIndex, TimedeltaIndex or PeriodIndex, but got an instance of 'MultiIndex'",
     "output_type": "error",
     "traceback": [
      "\u001b[1;31m---------------------------------------------------------------------------\u001b[0m",
      "\u001b[1;31mTypeError\u001b[0m                                 Traceback (most recent call last)",
      "\u001b[1;32mc:\\Users\\Nils\\Documents\\Skola\\Year4\\DD2430 Project Course In Data Science\\DD2430-Project-Course-in-Data-Science\\src\\nils_augmentations.ipynb Cell 9\u001b[0m line \u001b[0;36m2\n\u001b[0;32m     <a href='vscode-notebook-cell:/c%3A/Users/Nils/Documents/Skola/Year4/DD2430%20Project%20Course%20In%20Data%20Science/DD2430-Project-Course-in-Data-Science/src/nils_augmentations.ipynb#X11sZmlsZQ%3D%3D?line=19'>20</a>\u001b[0m     \u001b[39mreturn\u001b[39;00m series\u001b[39m.\u001b[39mresample(\u001b[39mf\u001b[39m\u001b[39m'\u001b[39m\u001b[39m{\u001b[39;00mfactor\u001b[39m}\u001b[39;00m\u001b[39mH\u001b[39m\u001b[39m'\u001b[39m)\u001b[39m.\u001b[39mmean()\n\u001b[0;32m     <a href='vscode-notebook-cell:/c%3A/Users/Nils/Documents/Skola/Year4/DD2430%20Project%20Course%20In%20Data%20Science/DD2430-Project-Course-in-Data-Science/src/nils_augmentations.ipynb#X11sZmlsZQ%3D%3D?line=21'>22</a>\u001b[0m \u001b[39m# Apply augmentation\u001b[39;00m\n\u001b[0;32m     <a href='vscode-notebook-cell:/c%3A/Users/Nils/Documents/Skola/Year4/DD2430%20Project%20Course%20In%20Data%20Science/DD2430-Project-Course-in-Data-Science/src/nils_augmentations.ipynb#X11sZmlsZQ%3D%3D?line=22'>23</a>\u001b[0m \u001b[39m#X_train.reset_index(drop=True, inplace=True)    # reset index to make it a simple RangeIndex instead of a MultiIndex as an attempt to fix the problem\u001b[39;00m\n\u001b[0;32m     <a href='vscode-notebook-cell:/c%3A/Users/Nils/Documents/Skola/Year4/DD2430%20Project%20Course%20In%20Data%20Science/DD2430-Project-Course-in-Data-Science/src/nils_augmentations.ipynb#X11sZmlsZQ%3D%3D?line=24'>25</a>\u001b[0m augmented_data \u001b[39m=\u001b[39m {\n\u001b[0;32m     <a href='vscode-notebook-cell:/c%3A/Users/Nils/Documents/Skola/Year4/DD2430%20Project%20Course%20In%20Data%20Science/DD2430-Project-Course-in-Data-Science/src/nils_augmentations.ipynb#X11sZmlsZQ%3D%3D?line=25'>26</a>\u001b[0m     \u001b[39m'\u001b[39m\u001b[39mtime_warp\u001b[39m\u001b[39m'\u001b[39m: [time_warp(X_train[\u001b[39m'\u001b[39m\u001b[39mtotal_power_demand\u001b[39m\u001b[39m'\u001b[39m]\u001b[39m.\u001b[39mvalues) \u001b[39mfor\u001b[39;00m _ \u001b[39min\u001b[39;00m \u001b[39mrange\u001b[39m(\u001b[39m500\u001b[39m)],  \u001b[39m# 500 augmented samples\u001b[39;00m\n\u001b[0;32m     <a href='vscode-notebook-cell:/c%3A/Users/Nils/Documents/Skola/Year4/DD2430%20Project%20Course%20In%20Data%20Science/DD2430-Project-Course-in-Data-Science/src/nils_augmentations.ipynb#X11sZmlsZQ%3D%3D?line=26'>27</a>\u001b[0m     \u001b[39m'\u001b[39m\u001b[39mtime_shift\u001b[39m\u001b[39m'\u001b[39m: [time_shift(X_train[\u001b[39m'\u001b[39m\u001b[39mtotal_power_demand\u001b[39m\u001b[39m'\u001b[39m]\u001b[39m.\u001b[39mvalues) \u001b[39mfor\u001b[39;00m _ \u001b[39min\u001b[39;00m \u001b[39mrange\u001b[39m(\u001b[39m500\u001b[39m)],\n\u001b[0;32m     <a href='vscode-notebook-cell:/c%3A/Users/Nils/Documents/Skola/Year4/DD2430%20Project%20Course%20In%20Data%20Science/DD2430-Project-Course-in-Data-Science/src/nils_augmentations.ipynb#X11sZmlsZQ%3D%3D?line=27'>28</a>\u001b[0m     \u001b[39m'\u001b[39m\u001b[39mnoise\u001b[39m\u001b[39m'\u001b[39m: [add_noise(X_train[\u001b[39m'\u001b[39m\u001b[39mtotal_power_demand\u001b[39m\u001b[39m'\u001b[39m]\u001b[39m.\u001b[39mvalues) \u001b[39mfor\u001b[39;00m _ \u001b[39min\u001b[39;00m \u001b[39mrange\u001b[39m(\u001b[39m500\u001b[39m)],\n\u001b[1;32m---> <a href='vscode-notebook-cell:/c%3A/Users/Nils/Documents/Skola/Year4/DD2430%20Project%20Course%20In%20Data%20Science/DD2430-Project-Course-in-Data-Science/src/nils_augmentations.ipynb#X11sZmlsZQ%3D%3D?line=28'>29</a>\u001b[0m     \u001b[39m'\u001b[39m\u001b[39mresample\u001b[39m\u001b[39m'\u001b[39m: [resample_series(X_train[\u001b[39m'\u001b[39;49m\u001b[39mtotal_power_demand\u001b[39;49m\u001b[39m'\u001b[39;49m])\u001b[39m.\u001b[39;49mvalues \u001b[39mfor\u001b[39;49;00m _ \u001b[39min\u001b[39;49;00m \u001b[39mrange\u001b[39;49m(\u001b[39m500\u001b[39;49m)]\n\u001b[0;32m     <a href='vscode-notebook-cell:/c%3A/Users/Nils/Documents/Skola/Year4/DD2430%20Project%20Course%20In%20Data%20Science/DD2430-Project-Course-in-Data-Science/src/nils_augmentations.ipynb#X11sZmlsZQ%3D%3D?line=29'>30</a>\u001b[0m }\n\u001b[0;32m     <a href='vscode-notebook-cell:/c%3A/Users/Nils/Documents/Skola/Year4/DD2430%20Project%20Course%20In%20Data%20Science/DD2430-Project-Course-in-Data-Science/src/nils_augmentations.ipynb#X11sZmlsZQ%3D%3D?line=31'>32</a>\u001b[0m \u001b[39m# Concatenate the augmented data with the original data\u001b[39;00m\n\u001b[0;32m     <a href='vscode-notebook-cell:/c%3A/Users/Nils/Documents/Skola/Year4/DD2430%20Project%20Course%20In%20Data%20Science/DD2430-Project-Course-in-Data-Science/src/nils_augmentations.ipynb#X11sZmlsZQ%3D%3D?line=32'>33</a>\u001b[0m augmented_X_train \u001b[39m=\u001b[39m pd\u001b[39m.\u001b[39mDataFrame(augmented_data)\n",
      "\u001b[1;32mc:\\Users\\Nils\\Documents\\Skola\\Year4\\DD2430 Project Course In Data Science\\DD2430-Project-Course-in-Data-Science\\src\\nils_augmentations.ipynb Cell 9\u001b[0m line \u001b[0;36m2\n\u001b[0;32m     <a href='vscode-notebook-cell:/c%3A/Users/Nils/Documents/Skola/Year4/DD2430%20Project%20Course%20In%20Data%20Science/DD2430-Project-Course-in-Data-Science/src/nils_augmentations.ipynb#X11sZmlsZQ%3D%3D?line=19'>20</a>\u001b[0m     \u001b[39mreturn\u001b[39;00m series\u001b[39m.\u001b[39mresample(\u001b[39mf\u001b[39m\u001b[39m'\u001b[39m\u001b[39m{\u001b[39;00mfactor\u001b[39m}\u001b[39;00m\u001b[39mH\u001b[39m\u001b[39m'\u001b[39m)\u001b[39m.\u001b[39mmean()\n\u001b[0;32m     <a href='vscode-notebook-cell:/c%3A/Users/Nils/Documents/Skola/Year4/DD2430%20Project%20Course%20In%20Data%20Science/DD2430-Project-Course-in-Data-Science/src/nils_augmentations.ipynb#X11sZmlsZQ%3D%3D?line=21'>22</a>\u001b[0m \u001b[39m# Apply augmentation\u001b[39;00m\n\u001b[0;32m     <a href='vscode-notebook-cell:/c%3A/Users/Nils/Documents/Skola/Year4/DD2430%20Project%20Course%20In%20Data%20Science/DD2430-Project-Course-in-Data-Science/src/nils_augmentations.ipynb#X11sZmlsZQ%3D%3D?line=22'>23</a>\u001b[0m \u001b[39m#X_train.reset_index(drop=True, inplace=True)    # reset index to make it a simple RangeIndex instead of a MultiIndex as an attempt to fix the problem\u001b[39;00m\n\u001b[0;32m     <a href='vscode-notebook-cell:/c%3A/Users/Nils/Documents/Skola/Year4/DD2430%20Project%20Course%20In%20Data%20Science/DD2430-Project-Course-in-Data-Science/src/nils_augmentations.ipynb#X11sZmlsZQ%3D%3D?line=24'>25</a>\u001b[0m augmented_data \u001b[39m=\u001b[39m {\n\u001b[0;32m     <a href='vscode-notebook-cell:/c%3A/Users/Nils/Documents/Skola/Year4/DD2430%20Project%20Course%20In%20Data%20Science/DD2430-Project-Course-in-Data-Science/src/nils_augmentations.ipynb#X11sZmlsZQ%3D%3D?line=25'>26</a>\u001b[0m     \u001b[39m'\u001b[39m\u001b[39mtime_warp\u001b[39m\u001b[39m'\u001b[39m: [time_warp(X_train[\u001b[39m'\u001b[39m\u001b[39mtotal_power_demand\u001b[39m\u001b[39m'\u001b[39m]\u001b[39m.\u001b[39mvalues) \u001b[39mfor\u001b[39;00m _ \u001b[39min\u001b[39;00m \u001b[39mrange\u001b[39m(\u001b[39m500\u001b[39m)],  \u001b[39m# 500 augmented samples\u001b[39;00m\n\u001b[0;32m     <a href='vscode-notebook-cell:/c%3A/Users/Nils/Documents/Skola/Year4/DD2430%20Project%20Course%20In%20Data%20Science/DD2430-Project-Course-in-Data-Science/src/nils_augmentations.ipynb#X11sZmlsZQ%3D%3D?line=26'>27</a>\u001b[0m     \u001b[39m'\u001b[39m\u001b[39mtime_shift\u001b[39m\u001b[39m'\u001b[39m: [time_shift(X_train[\u001b[39m'\u001b[39m\u001b[39mtotal_power_demand\u001b[39m\u001b[39m'\u001b[39m]\u001b[39m.\u001b[39mvalues) \u001b[39mfor\u001b[39;00m _ \u001b[39min\u001b[39;00m \u001b[39mrange\u001b[39m(\u001b[39m500\u001b[39m)],\n\u001b[0;32m     <a href='vscode-notebook-cell:/c%3A/Users/Nils/Documents/Skola/Year4/DD2430%20Project%20Course%20In%20Data%20Science/DD2430-Project-Course-in-Data-Science/src/nils_augmentations.ipynb#X11sZmlsZQ%3D%3D?line=27'>28</a>\u001b[0m     \u001b[39m'\u001b[39m\u001b[39mnoise\u001b[39m\u001b[39m'\u001b[39m: [add_noise(X_train[\u001b[39m'\u001b[39m\u001b[39mtotal_power_demand\u001b[39m\u001b[39m'\u001b[39m]\u001b[39m.\u001b[39mvalues) \u001b[39mfor\u001b[39;00m _ \u001b[39min\u001b[39;00m \u001b[39mrange\u001b[39m(\u001b[39m500\u001b[39m)],\n\u001b[1;32m---> <a href='vscode-notebook-cell:/c%3A/Users/Nils/Documents/Skola/Year4/DD2430%20Project%20Course%20In%20Data%20Science/DD2430-Project-Course-in-Data-Science/src/nils_augmentations.ipynb#X11sZmlsZQ%3D%3D?line=28'>29</a>\u001b[0m     \u001b[39m'\u001b[39m\u001b[39mresample\u001b[39m\u001b[39m'\u001b[39m: [resample_series(X_train[\u001b[39m'\u001b[39;49m\u001b[39mtotal_power_demand\u001b[39;49m\u001b[39m'\u001b[39;49m])\u001b[39m.\u001b[39mvalues \u001b[39mfor\u001b[39;00m _ \u001b[39min\u001b[39;00m \u001b[39mrange\u001b[39m(\u001b[39m500\u001b[39m)]\n\u001b[0;32m     <a href='vscode-notebook-cell:/c%3A/Users/Nils/Documents/Skola/Year4/DD2430%20Project%20Course%20In%20Data%20Science/DD2430-Project-Course-in-Data-Science/src/nils_augmentations.ipynb#X11sZmlsZQ%3D%3D?line=29'>30</a>\u001b[0m }\n\u001b[0;32m     <a href='vscode-notebook-cell:/c%3A/Users/Nils/Documents/Skola/Year4/DD2430%20Project%20Course%20In%20Data%20Science/DD2430-Project-Course-in-Data-Science/src/nils_augmentations.ipynb#X11sZmlsZQ%3D%3D?line=31'>32</a>\u001b[0m \u001b[39m# Concatenate the augmented data with the original data\u001b[39;00m\n\u001b[0;32m     <a href='vscode-notebook-cell:/c%3A/Users/Nils/Documents/Skola/Year4/DD2430%20Project%20Course%20In%20Data%20Science/DD2430-Project-Course-in-Data-Science/src/nils_augmentations.ipynb#X11sZmlsZQ%3D%3D?line=32'>33</a>\u001b[0m augmented_X_train \u001b[39m=\u001b[39m pd\u001b[39m.\u001b[39mDataFrame(augmented_data)\n",
      "\u001b[1;32mc:\\Users\\Nils\\Documents\\Skola\\Year4\\DD2430 Project Course In Data Science\\DD2430-Project-Course-in-Data-Science\\src\\nils_augmentations.ipynb Cell 9\u001b[0m line \u001b[0;36m2\n\u001b[0;32m     <a href='vscode-notebook-cell:/c%3A/Users/Nils/Documents/Skola/Year4/DD2430%20Project%20Course%20In%20Data%20Science/DD2430-Project-Course-in-Data-Science/src/nils_augmentations.ipynb#X11sZmlsZQ%3D%3D?line=18'>19</a>\u001b[0m \u001b[39mdef\u001b[39;00m \u001b[39mresample_series\u001b[39m(series, factor\u001b[39m=\u001b[39m\u001b[39m2\u001b[39m):\n\u001b[1;32m---> <a href='vscode-notebook-cell:/c%3A/Users/Nils/Documents/Skola/Year4/DD2430%20Project%20Course%20In%20Data%20Science/DD2430-Project-Course-in-Data-Science/src/nils_augmentations.ipynb#X11sZmlsZQ%3D%3D?line=19'>20</a>\u001b[0m     \u001b[39mreturn\u001b[39;00m series\u001b[39m.\u001b[39;49mresample(\u001b[39mf\u001b[39;49m\u001b[39m'\u001b[39;49m\u001b[39m{\u001b[39;49;00mfactor\u001b[39m}\u001b[39;49;00m\u001b[39mH\u001b[39;49m\u001b[39m'\u001b[39;49m)\u001b[39m.\u001b[39mmean()\n",
      "File \u001b[1;32m~\\AppData\\Roaming\\Python\\Python311\\site-packages\\pandas\\core\\generic.py:9432\u001b[0m, in \u001b[0;36mNDFrame.resample\u001b[1;34m(self, rule, axis, closed, label, convention, kind, on, level, origin, offset, group_keys)\u001b[0m\n\u001b[0;32m   9429\u001b[0m \u001b[39melse\u001b[39;00m:\n\u001b[0;32m   9430\u001b[0m     axis \u001b[39m=\u001b[39m \u001b[39m0\u001b[39m\n\u001b[1;32m-> 9432\u001b[0m \u001b[39mreturn\u001b[39;00m get_resampler(\n\u001b[0;32m   9433\u001b[0m     cast(\u001b[39m\"\u001b[39;49m\u001b[39mSeries | DataFrame\u001b[39;49m\u001b[39m\"\u001b[39;49m, \u001b[39mself\u001b[39;49m),\n\u001b[0;32m   9434\u001b[0m     freq\u001b[39m=\u001b[39;49mrule,\n\u001b[0;32m   9435\u001b[0m     label\u001b[39m=\u001b[39;49mlabel,\n\u001b[0;32m   9436\u001b[0m     closed\u001b[39m=\u001b[39;49mclosed,\n\u001b[0;32m   9437\u001b[0m     axis\u001b[39m=\u001b[39;49maxis,\n\u001b[0;32m   9438\u001b[0m     kind\u001b[39m=\u001b[39;49mkind,\n\u001b[0;32m   9439\u001b[0m     convention\u001b[39m=\u001b[39;49mconvention,\n\u001b[0;32m   9440\u001b[0m     key\u001b[39m=\u001b[39;49mon,\n\u001b[0;32m   9441\u001b[0m     level\u001b[39m=\u001b[39;49mlevel,\n\u001b[0;32m   9442\u001b[0m     origin\u001b[39m=\u001b[39;49morigin,\n\u001b[0;32m   9443\u001b[0m     offset\u001b[39m=\u001b[39;49moffset,\n\u001b[0;32m   9444\u001b[0m     group_keys\u001b[39m=\u001b[39;49mgroup_keys,\n\u001b[0;32m   9445\u001b[0m )\n",
      "File \u001b[1;32m~\\AppData\\Roaming\\Python\\Python311\\site-packages\\pandas\\core\\resample.py:1970\u001b[0m, in \u001b[0;36mget_resampler\u001b[1;34m(obj, kind, **kwds)\u001b[0m\n\u001b[0;32m   1966\u001b[0m \u001b[39m\u001b[39m\u001b[39m\"\"\"\u001b[39;00m\n\u001b[0;32m   1967\u001b[0m \u001b[39mCreate a TimeGrouper and return our resampler.\u001b[39;00m\n\u001b[0;32m   1968\u001b[0m \u001b[39m\"\"\"\u001b[39;00m\n\u001b[0;32m   1969\u001b[0m tg \u001b[39m=\u001b[39m TimeGrouper(\u001b[39m*\u001b[39m\u001b[39m*\u001b[39mkwds)\n\u001b[1;32m-> 1970\u001b[0m \u001b[39mreturn\u001b[39;00m tg\u001b[39m.\u001b[39;49m_get_resampler(obj, kind\u001b[39m=\u001b[39;49mkind)\n",
      "File \u001b[1;32m~\\AppData\\Roaming\\Python\\Python311\\site-packages\\pandas\\core\\resample.py:2160\u001b[0m, in \u001b[0;36mTimeGrouper._get_resampler\u001b[1;34m(self, obj, kind)\u001b[0m\n\u001b[0;32m   2151\u001b[0m \u001b[39melif\u001b[39;00m \u001b[39misinstance\u001b[39m(ax, TimedeltaIndex):\n\u001b[0;32m   2152\u001b[0m     \u001b[39mreturn\u001b[39;00m TimedeltaIndexResampler(\n\u001b[0;32m   2153\u001b[0m         obj,\n\u001b[0;32m   2154\u001b[0m         timegrouper\u001b[39m=\u001b[39m\u001b[39mself\u001b[39m,\n\u001b[1;32m   (...)\u001b[0m\n\u001b[0;32m   2157\u001b[0m         gpr_index\u001b[39m=\u001b[39max,\n\u001b[0;32m   2158\u001b[0m     )\n\u001b[1;32m-> 2160\u001b[0m \u001b[39mraise\u001b[39;00m \u001b[39mTypeError\u001b[39;00m(\n\u001b[0;32m   2161\u001b[0m     \u001b[39m\"\u001b[39m\u001b[39mOnly valid with DatetimeIndex, \u001b[39m\u001b[39m\"\u001b[39m\n\u001b[0;32m   2162\u001b[0m     \u001b[39m\"\u001b[39m\u001b[39mTimedeltaIndex or PeriodIndex, \u001b[39m\u001b[39m\"\u001b[39m\n\u001b[0;32m   2163\u001b[0m     \u001b[39mf\u001b[39m\u001b[39m\"\u001b[39m\u001b[39mbut got an instance of \u001b[39m\u001b[39m'\u001b[39m\u001b[39m{\u001b[39;00m\u001b[39mtype\u001b[39m(ax)\u001b[39m.\u001b[39m\u001b[39m__name__\u001b[39m\u001b[39m}\u001b[39;00m\u001b[39m'\u001b[39m\u001b[39m\"\u001b[39m\n\u001b[0;32m   2164\u001b[0m )\n",
      "\u001b[1;31mTypeError\u001b[0m: Only valid with DatetimeIndex, TimedeltaIndex or PeriodIndex, but got an instance of 'MultiIndex'"
     ]
    }
   ],
   "source": [
    "# NOTE This code is currently not working and will throw an error because of some funky DataFrame problem I am too tired to solve right now\n",
    "\n",
    "# Function to apply time warping\n",
    "def time_warp(series, alpha=0.05):\n",
    "    warp_factor = np.random.uniform(1 - alpha, 1 + alpha)\n",
    "    return np.interp(np.arange(len(series)) * warp_factor, np.arange(len(series)), series)\n",
    "\n",
    "# Function to apply time shifting\n",
    "def time_shift(series, max_shift=10):\n",
    "    shift_amount = np.random.randint(-max_shift, max_shift)\n",
    "    return np.roll(series, shift_amount)\n",
    "\n",
    "# Function to add noise\n",
    "def add_noise(series, noise_level=0.02):\n",
    "    noise = np.random.normal(0, noise_level, len(series))\n",
    "    return series + noise\n",
    "\n",
    "# Function to resample the time series\n",
    "def resample_series(series, factor=2):\n",
    "    return series.resample(f'{factor}H').mean()\n",
    "\n",
    "# Apply augmentation\n",
    "#X_train.reset_index(drop=True, inplace=True)    # reset index to make it a simple RangeIndex instead of a MultiIndex as an attempt to fix the problem\n",
    "\n",
    "augmented_data = {\n",
    "    'time_warp': [time_warp(X_train['total_power_demand'].values) for _ in range(500)],  # 500 augmented samples\n",
    "    'time_shift': [time_shift(X_train['total_power_demand'].values) for _ in range(500)],\n",
    "    'noise': [add_noise(X_train['total_power_demand'].values) for _ in range(500)],\n",
    "    'resample': [resample_series(X_train['total_power_demand']).values for _ in range(500)]\n",
    "}\n",
    "\n",
    "# Concatenate the augmented data with the original data\n",
    "augmented_X_train = pd.DataFrame(augmented_data)\n",
    "augmented_X_train = pd.concat([X_train, augmented_X_train], ignore_index=True, axis=1)\n",
    "augmented_X_train.columns = ['total_power_demand', 'time_warp', 'time_shift', 'noise']"
   ]
  },
  {
   "cell_type": "code",
   "execution_count": null,
   "metadata": {},
   "outputs": [],
   "source": [
    "# Retrain a new model on the augmented data\n",
    "ITC_augmented = InceptionTimeClassifier()\n",
    "ITC_augmented.fit(augmented_X_train, y_train)"
   ]
  },
  {
   "cell_type": "code",
   "execution_count": null,
   "metadata": {},
   "outputs": [],
   "source": [
    "# We now predict the labels for the test data using the augmented model and score the predictions\n",
    "y_preditions_augmented = ITC.predict(X_test)\n",
    "accuracy_score(y_test, y_preditions)"
   ]
  }
 ],
 "metadata": {
  "kernelspec": {
   "display_name": "Python 3",
   "language": "python",
   "name": "python3"
  },
  "language_info": {
   "codemirror_mode": {
    "name": "ipython",
    "version": 3
   },
   "file_extension": ".py",
   "mimetype": "text/x-python",
   "name": "python",
   "nbconvert_exporter": "python",
   "pygments_lexer": "ipython3",
   "version": "3.11.5"
  },
  "orig_nbformat": 4
 },
 "nbformat": 4,
 "nbformat_minor": 2
}
