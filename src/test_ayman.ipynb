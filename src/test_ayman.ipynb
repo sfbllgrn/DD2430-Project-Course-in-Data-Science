{
 "cells": [
  {
   "cell_type": "code",
   "execution_count": 7,
   "id": "e7349655-ff3f-439e-b131-7822f2dccdf1",
   "metadata": {},
   "outputs": [],
   "source": [
    "# make some imports \n",
    "import warnings\n",
    "warnings.filterwarnings(\"ignore\")  # hide some annoying deprication warnings\n",
    "\n",
    "import numpy as np\n",
    "import pandas as pd\n",
    "\n",
    "import random\n",
    "\n",
    "random.seed(11)"
   ]
  },
  {
   "cell_type": "code",
   "execution_count": 8,
   "id": "761e5366-d8b0-4781-9552-b3e81a73d512",
   "metadata": {},
   "outputs": [],
   "source": [
    "# Load data\n",
    "\n",
    "from sktime.datasets import load_UCR_UEA_dataset\n",
    "from sklearn.metrics import accuracy_score\n",
    "\n",
    "dataset = \"BME\"\n",
    "X_train, Y_train = load_UCR_UEA_dataset(name=dataset, split=\"train\", return_X_y=True, return_type=\"numpy2d\")\n",
    "X_test, Y_test = load_UCR_UEA_dataset(name=dataset, split=\"test\", return_X_y=True, return_type=\"numpy2d\")"
   ]
  },
  {
   "cell_type": "code",
   "execution_count": 9,
   "id": "8ab4a3f8-1ef8-4640-8318-f760029a61ab",
   "metadata": {},
   "outputs": [],
   "source": [
    "import torch \n",
    "import torch.nn as nn\n",
    "from notes import Transformer"
   ]
  },
  {
   "cell_type": "code",
   "execution_count": 10,
   "id": "4ef233ee-740e-4890-af39-60f2648ebb18",
   "metadata": {},
   "outputs": [],
   "source": [
    "# Convert data to tensors for the model and turn labels to one hot encoding from 0 - C - 1,\n",
    "# where C is number of classes.\n",
    "\n",
    "label_to_idx = {}\n",
    "idx_to_label = {}\n",
    "    \n",
    "def data_converter(x, y, new=False):\n",
    "\n",
    "    if new:\n",
    "        for label in y:\n",
    "            label_to_idx[label] = 0\n",
    "        \n",
    "        count = 0\n",
    "        for label in label_to_idx:\n",
    "            label_to_idx[label] = count\n",
    "            idx_to_label[count] = label\n",
    "            count += 1\n",
    "        \n",
    "    x = torch.Tensor(x)\n",
    "\n",
    "    y = np.array([label_to_idx[l] for l in y])\n",
    "\n",
    "    y = torch.Tensor(y).type(torch.LongTensor)\n",
    "\n",
    "    return x, y\n",
    "    \n",
    "x_train, y_train = data_converter(X_train, Y_train, True)\n",
    "x_test, y_test = data_converter(X_test, Y_test)\n",
    "\n",
    "n_seq = x_train.shape[1]"
   ]
  },
  {
   "cell_type": "raw",
   "id": "623461af-e8a4-4b61-bff2-28aa0855975f",
   "metadata": {},
   "source": [
    "model = Transformer(seq_len=n_seq, num_classes=3, d_model=256, num_encoder_layers=4)\n",
    "model.fit(x_train, y_train, n_epochs=30)"
   ]
  },
  {
   "cell_type": "code",
   "execution_count": 25,
   "id": "295cb8be-4946-41ad-b9c9-da2b94b2e596",
   "metadata": {},
   "outputs": [
    {
     "data": {
      "text/plain": [
       "(tensor([0, 0, 1, 1, 0, 0, 1, 0, 0, 0, 0, 0, 0, 0, 0, 0, 0, 1, 1, 0, 0, 0, 0, 0,\n",
       "         0, 0, 0, 0, 1, 0, 0, 0, 0, 1, 1, 2, 0, 0, 0, 0, 2, 0, 0, 0, 0, 0, 0, 0,\n",
       "         0, 0, 1, 1, 1, 1, 1, 1, 1, 1, 1, 1, 1, 1, 1, 1, 1, 1, 1, 1, 1, 1, 1, 1,\n",
       "         1, 1, 1, 1, 1, 1, 1, 1, 1, 1, 1, 1, 1, 1, 1, 1, 1, 1, 1, 1, 1, 1, 2, 1,\n",
       "         1, 1, 1, 1, 2, 1, 2, 2, 2, 2, 2, 2, 2, 2, 2, 2, 2, 2, 2, 2, 2, 2, 2, 2,\n",
       "         2, 2, 2, 2, 2, 2, 2, 2, 2, 2, 2, 2, 2, 2, 2, 2, 2, 2, 2, 2, 2, 2, 2, 2,\n",
       "         2, 1, 2, 2, 2, 2]),\n",
       " 0.9133333563804626)"
      ]
     },
     "execution_count": 25,
     "metadata": {},
     "output_type": "execute_result"
    }
   ],
   "source": [
    "# evaluate model at end of epoch\n",
    "model.evaluate(x_test, y_test)"
   ]
  },
  {
   "cell_type": "code",
   "execution_count": 26,
   "id": "ec32b850-3d7d-456c-8e16-b1330e912af9",
   "metadata": {},
   "outputs": [
    {
     "data": {
      "text/plain": [
       "[<matplotlib.lines.Line2D at 0x1edcc03ff50>]"
      ]
     },
     "execution_count": 26,
     "metadata": {},
     "output_type": "execute_result"
    },
    {
     "data": {
      "image/png": "[encoded data removed]",
      "text/plain": [
       "<Figure size 640x480 with 1 Axes>"
      ]
     },
     "metadata": {},
     "output_type": "display_data"
    }
   ],
   "source": [
    "import matplotlib.pyplot as plt\n",
    "epochs = [i+1 for i in range(model.num_epochs)]\n",
    "\n",
    "plt.plot(epochs, model.train_loss_curve)"
   ]
  },
  {
   "cell_type": "code",
   "execution_count": 27,
   "id": "19318fa8-0e35-4638-b045-738c06943e70",
   "metadata": {},
   "outputs": [],
   "source": [
    "# Create a subset of the training data to be augmented\n",
    "\n",
    "from copy import deepcopy\n",
    "\n",
    "N = X_train.shape[0]\n",
    "p = 0.2    # percentage of data to augment\n",
    "rows_to_augment = random.sample(range(0,N), int(N*p))\n",
    "\n",
    "X_subset = deepcopy(X_train[rows_to_augment,:])\n",
    "y_subset = deepcopy(Y_train[rows_to_augment])\n"
   ]
  },
  {
   "cell_type": "code",
   "execution_count": 28,
   "id": "a8d1871e-2771-455c-a308-45d428d77696",
   "metadata": {},
   "outputs": [],
   "source": [
    "from surrogate_augmentation import correlated_noise_surrogates, AAFT_surrogates, refined_AAFT_surrogates\n",
    "\n",
    "# Correlated noise surrogate\n",
    "X_subset_augmented = correlated_noise_surrogates(X_subset)\n",
    "X_train_augmented = np.concatenate((X_train, X_subset_augmented))\n",
    "y_train_augmented = np.concatenate((Y_train, y_subset))"
   ]
  },
  {
   "cell_type": "code",
   "execution_count": 29,
   "id": "5f501473-be3a-4e7a-8f61-d0402e8b1e03",
   "metadata": {},
   "outputs": [],
   "source": [
    "# Convert data to tensors for the model\n",
    " \n",
    "x_train, y_train = data_converter(X_train_augmented, y_train_augmented, True)\n",
    "n_seq = x_train.shape[1]"
   ]
  },
  {
   "cell_type": "code",
   "execution_count": 30,
   "id": "cc84389a-9e1a-4441-b8dc-ddb377fd905b",
   "metadata": {},
   "outputs": [
    {
     "data": {
      "text/plain": [
       "torch.Size([36, 128])"
      ]
     },
     "execution_count": 30,
     "metadata": {},
     "output_type": "execute_result"
    }
   ],
   "source": [
    "x_train.shape"
   ]
  },
  {
   "cell_type": "code",
   "execution_count": 31,
   "id": "771cc7bd-923f-4952-8054-096551300f99",
   "metadata": {},
   "outputs": [
    {
     "data": {
      "text/plain": [
       "torch.Size([36])"
      ]
     },
     "execution_count": 31,
     "metadata": {},
     "output_type": "execute_result"
    }
   ],
   "source": [
    "y_train.shape"
   ]
  },
  {
   "cell_type": "code",
   "execution_count": 32,
   "id": "c7990c36-c862-411f-a52e-f3bbbb8c8f84",
   "metadata": {},
   "outputs": [],
   "source": [
    "model = Transformer(seq_len=n_seq, num_classes=3, d_model=256, num_encoder_layers=4)\n",
    "model.fit(x_train, y_train, n_epochs=30)"
   ]
  },
  {
   "cell_type": "code",
   "execution_count": 33,
   "id": "a2ac8415-1ba9-486f-be21-6bd76b53a6fe",
   "metadata": {},
   "outputs": [
    {
     "data": {
      "text/plain": [
       "(tensor([0, 0, 0, 0, 0, 0, 1, 0, 0, 0, 0, 0, 0, 0, 0, 0, 0, 1, 1, 0, 0, 0, 0, 0,\n",
       "         0, 0, 0, 0, 1, 0, 0, 0, 0, 0, 0, 0, 0, 0, 0, 0, 0, 0, 0, 0, 0, 0, 0, 0,\n",
       "         0, 0, 1, 1, 1, 1, 1, 1, 1, 1, 1, 1, 1, 1, 1, 1, 1, 1, 1, 1, 1, 1, 1, 1,\n",
       "         1, 1, 1, 1, 1, 1, 1, 1, 1, 1, 1, 1, 1, 1, 1, 1, 1, 1, 1, 1, 1, 1, 1, 1,\n",
       "         1, 1, 1, 1, 2, 1, 2, 2, 2, 2, 2, 2, 2, 2, 2, 1, 2, 2, 2, 2, 2, 2, 2, 2,\n",
       "         2, 2, 2, 2, 2, 2, 1, 2, 2, 2, 2, 2, 2, 2, 1, 2, 2, 2, 2, 2, 2, 2, 2, 2,\n",
       "         2, 1, 2, 2, 2, 2]),\n",
       " 0.9399999976158142)"
      ]
     },
     "execution_count": 33,
     "metadata": {},
     "output_type": "execute_result"
    }
   ],
   "source": [
    "# evaluate model at end of epoch\n",
    "model.evaluate(x_test, y_test)"
   ]
  }
 ],
 "metadata": {
  "kernelspec": {
   "display_name": "Python 3 (ipykernel)",
   "language": "python",
   "name": "python3"
  },
  "language_info": {
   "codemirror_mode": {
    "name": "ipython",
    "version": 3
   },
   "file_extension": ".py",
   "mimetype": "text/x-python",
   "name": "python",
   "nbconvert_exporter": "python",
   "pygments_lexer": "ipython3",
   "version": "3.11.5"
  }
 },
 "nbformat": 4,
 "nbformat_minor": 5
}
